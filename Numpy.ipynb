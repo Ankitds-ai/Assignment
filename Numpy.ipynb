{
  "nbformat": 4,
  "nbformat_minor": 0,
  "metadata": {
    "colab": {
      "provenance": []
    },
    "kernelspec": {
      "name": "python3",
      "display_name": "Python 3"
    },
    "language_info": {
      "name": "python"
    }
  },
  "cells": [
    {
      "cell_type": "markdown",
      "source": [
        "#1.Explain the purpose and advantages of NumPy in scientific computing and data analysis. how does it ehance Python's capabilities for numerical operations?\n",
        "   Numpy is powerful library that provides efficient and optimized array operationsmaking it a go-to tool for numerical python.\n",
        "   Its advantages are it has higher execution speed and uses less memory space because of its contiguous memory location."
      ],
      "metadata": {
        "id": "dQLvLwpo8SOH"
      }
    },
    {
      "cell_type": "markdown",
      "source": [
        "#2.Compare and contrast np.mean() and np.average() functions in NumPy. when would you use one over the other?\n",
        "   np.mean() gives you simply a arithmetic mean whereas in np.average you calculate arithmetic mean and weighted average calculation by passing a specific argument if you don't use it will simply calculate average mean. If you want calculate only simply average mean you should go with np.mean()."
      ],
      "metadata": {
        "id": "btqe7wGqSB5a"
      }
    },
    {
      "cell_type": "markdown",
      "source": [
        "#3.Describe the methods for reversing a NumPy array along different axes. Provide examples for 1D and 2D arrays.\n",
        "  The NumPy.flip() reverses a order of array element along the specified axis , preserving the shape of an array. and list slicing methods also works."
      ],
      "metadata": {
        "id": "mx8T8YYIWejw"
      }
    },
    {
      "cell_type": "code",
      "source": [
        "import numpy as np"
      ],
      "metadata": {
        "id": "ggwpZw9FeBqd"
      },
      "execution_count": 1,
      "outputs": []
    },
    {
      "cell_type": "code",
      "source": [
        "arr = np.array([1,2,3,4,5,6]) #By using flip() function\n",
        "rev = np.flip(arr)\n",
        "print(rev)"
      ],
      "metadata": {
        "colab": {
          "base_uri": "https://localhost:8080/"
        },
        "id": "WBGxP2oAeRjW",
        "outputId": "f2dd72d3-4c9a-4af0-d9d3-45c711d149d9"
      },
      "execution_count": 3,
      "outputs": [
        {
          "output_type": "stream",
          "name": "stdout",
          "text": [
            "[6 5 4 3 2 1]\n"
          ]
        }
      ]
    },
    {
      "cell_type": "code",
      "source": [
        "sli = arr[::-1] #By using list slicing\n",
        "print(sli)"
      ],
      "metadata": {
        "colab": {
          "base_uri": "https://localhost:8080/"
        },
        "id": "gOfQ77Meeina",
        "outputId": "9f8fa2d1-d1cf-4627-cb0f-6735eabfdc1d"
      },
      "execution_count": 4,
      "outputs": [
        {
          "output_type": "stream",
          "name": "stdout",
          "text": [
            "[6 5 4 3 2 1]\n"
          ]
        }
      ]
    },
    {
      "cell_type": "markdown",
      "source": [
        "#4.How can you determine the data type of elements in a NumPy array? Discuss the importance of data types in memort management and performance.\n",
        "   By using a dtype attribute you can know the datatype . If datatype is homogenous it will store in contiguos location it will make all the operation smoother."
      ],
      "metadata": {
        "id": "WnOtq-qpfBcC"
      }
    },
    {
      "cell_type": "markdown",
      "source": [
        "#5.Define ndarrays in NumPy and explain their key features.How do they differ from standard Python lists?\n",
        "   An ndarray is a multi-dimensional arrays of the same type and size.\n",
        "   Python list contain any type of data for example integer, string, float, boolean,complex number etc whereas ndarray contains same data type for faster execution."
      ],
      "metadata": {
        "id": "i0FS36qpgtRh"
      }
    },
    {
      "cell_type": "markdown",
      "source": [
        "#6.Analyze the performane benefits of NumPy arrays of Python lists for large scale numerical operations.\n",
        "   Numpy arrays provide a significantly faster speed over python traditional list its because NumPy built in C and uses pre compiled code for numerical operations."
      ],
      "metadata": {
        "id": "fJp1hjOMh-eC"
      }
    },
    {
      "cell_type": "markdown",
      "source": [
        "#7.Compare vstack() and hstack() functions in NumPy. Provide examples demonstrating their usage and output.\n",
        "   hstack function is used to stack the sequence of input arrays horizontally (colum wise).\n",
        "   vstack function is used to stack the sequence of input arrays verical (row wise)."
      ],
      "metadata": {
        "id": "fWx7Vkc5i7G-"
      }
    },
    {
      "cell_type": "code",
      "source": [
        "arr1=np.array([[1,2,3],[4,5,6]])\n",
        "arr2=np.array([[7,8,9],[10,11,12]])\n",
        "arr3=np.array([[\"a\",\"b\",\"c\"],[\"d\",\"e\",\"f\"]])"
      ],
      "metadata": {
        "id": "4PhqVE1Ck7LC"
      },
      "execution_count": 5,
      "outputs": []
    },
    {
      "cell_type": "code",
      "source": [
        "arrh=np.hstack([arr1,arr2,arr3]) #stack horizontally\n",
        "print(arrh)"
      ],
      "metadata": {
        "colab": {
          "base_uri": "https://localhost:8080/"
        },
        "id": "9yLnXaEGld66",
        "outputId": "dff6e77e-d51c-4865-d695-ed0d5011b3d8"
      },
      "execution_count": 8,
      "outputs": [
        {
          "output_type": "stream",
          "name": "stdout",
          "text": [
            "[['1' '2' '3' '7' '8' '9' 'a' 'b' 'c']\n",
            " ['4' '5' '6' '10' '11' '12' 'd' 'e' 'f']]\n"
          ]
        }
      ]
    },
    {
      "cell_type": "code",
      "source": [
        "arrv=np.vstack([arr1,arr2,arr3]) #stack verically\n",
        "print(arrv)"
      ],
      "metadata": {
        "colab": {
          "base_uri": "https://localhost:8080/"
        },
        "id": "P00jcHRkltBs",
        "outputId": "157019d3-d9c4-459f-8ef4-b39ca7dbf5d8"
      },
      "execution_count": 9,
      "outputs": [
        {
          "output_type": "stream",
          "name": "stdout",
          "text": [
            "[['1' '2' '3']\n",
            " ['4' '5' '6']\n",
            " ['7' '8' '9']\n",
            " ['10' '11' '12']\n",
            " ['a' 'b' 'c']\n",
            " ['d' 'e' 'f']]\n"
          ]
        }
      ]
    },
    {
      "cell_type": "markdown",
      "source": [
        "#8.Explain the difference between fliplr() and flipud() methods in NumPy ,including their effects on various array dimensions.\n",
        "   fliplr() flip elements horizontally or left to right.\n",
        "   flipud() flip elements vertically or upside down.\n",
        "   In case of 1-D array flipud() doesn't have any impact.   "
      ],
      "metadata": {
        "id": "jBU9F9IBmV6o"
      }
    },
    {
      "cell_type": "code",
      "source": [
        "p1=np.arange(9).reshape(3,3)\n",
        "print(p1)"
      ],
      "metadata": {
        "colab": {
          "base_uri": "https://localhost:8080/"
        },
        "id": "sUR7TXvXnqD_",
        "outputId": "4f6648fb-6a17-4151-f3b6-41239ebdef68"
      },
      "execution_count": 13,
      "outputs": [
        {
          "output_type": "stream",
          "name": "stdout",
          "text": [
            "[[0 1 2]\n",
            " [3 4 5]\n",
            " [6 7 8]]\n"
          ]
        }
      ]
    },
    {
      "cell_type": "code",
      "source": [
        "p2=np.fliplr(p1) #flip elements horizontally\n",
        "print(p2)"
      ],
      "metadata": {
        "colab": {
          "base_uri": "https://localhost:8080/"
        },
        "id": "uD1iMlKUnxrK",
        "outputId": "97a6e596-a753-42e8-9144-0030a4991144"
      },
      "execution_count": 15,
      "outputs": [
        {
          "output_type": "stream",
          "name": "stdout",
          "text": [
            "[[2 1 0]\n",
            " [5 4 3]\n",
            " [8 7 6]]\n"
          ]
        }
      ]
    },
    {
      "cell_type": "code",
      "source": [
        "p3=np.flipud(p1) #flip elements vertically\n",
        "print(p3)"
      ],
      "metadata": {
        "colab": {
          "base_uri": "https://localhost:8080/"
        },
        "id": "jWNbu-ldoFTq",
        "outputId": "e21f35c0-4bb1-4a54-825d-b3ba6cc6408c"
      },
      "execution_count": 16,
      "outputs": [
        {
          "output_type": "stream",
          "name": "stdout",
          "text": [
            "[[6 7 8]\n",
            " [3 4 5]\n",
            " [0 1 2]]\n"
          ]
        }
      ]
    },
    {
      "cell_type": "code",
      "source": [
        "q1 = np.array([1,2,3,4,5,6])\n",
        "q2=np.fliplr([q1])\n",
        "print(q2)"
      ],
      "metadata": {
        "colab": {
          "base_uri": "https://localhost:8080/"
        },
        "id": "OBitpIeyoXm8",
        "outputId": "4d0c67ba-dfff-460d-cc77-4657e9069544"
      },
      "execution_count": 18,
      "outputs": [
        {
          "output_type": "stream",
          "name": "stdout",
          "text": [
            "[[6 5 4 3 2 1]]\n"
          ]
        }
      ]
    },
    {
      "cell_type": "code",
      "source": [
        "q3=np.flipud([q1])\n",
        "print(q3)"
      ],
      "metadata": {
        "colab": {
          "base_uri": "https://localhost:8080/"
        },
        "id": "E3GPcMtrpXTO",
        "outputId": "073180cd-04ee-442f-b949-aaf9f8346f64"
      },
      "execution_count": 19,
      "outputs": [
        {
          "output_type": "stream",
          "name": "stdout",
          "text": [
            "[[1 2 3 4 5 6]]\n"
          ]
        }
      ]
    },
    {
      "cell_type": "markdown",
      "source": [
        "#9.Discuss the functionality of the array_split() method in NumPy. How does it handle uneven splits?\n",
        "  array_split function divide array into given number of enequal parts.Let's understand with example."
      ],
      "metadata": {
        "id": "OK-1H-3op2fA"
      }
    },
    {
      "cell_type": "code",
      "source": [
        "array = np.arange(15)"
      ],
      "metadata": {
        "id": "hTMaNEZqsD67"
      },
      "execution_count": 20,
      "outputs": []
    },
    {
      "cell_type": "code",
      "source": [
        "#split arrays into two equal parts.\n",
        "sp4=np.array_split(array,4)\n",
        "print(sp4)"
      ],
      "metadata": {
        "colab": {
          "base_uri": "https://localhost:8080/"
        },
        "id": "NViIUW5QsLyQ",
        "outputId": "8f5fc62a-e288-44b8-ed50-2474982ec44e"
      },
      "execution_count": 24,
      "outputs": [
        {
          "output_type": "stream",
          "name": "stdout",
          "text": [
            "[array([0, 1]), array([2, 3]), array([4]), array([5])]\n"
          ]
        }
      ]
    },
    {
      "cell_type": "code",
      "source": [],
      "metadata": {
        "id": "gcZZyk1QszUH"
      },
      "execution_count": null,
      "outputs": []
    },
    {
      "cell_type": "markdown",
      "source": [
        "#10.Explain the concepts of vectorization and broadcasting in NumPy. How do they contribute to efficient array operations?\n",
        "   Vectorization is a method to performing array operations without use of loops.\n",
        "   Broadcasting provides a means of vectorizing array operations so that looping occurs in c instead of python.that makes operations efficient."
      ],
      "metadata": {
        "id": "DGvQTSv2uHcG"
      }
    },
    {
      "cell_type": "markdown",
      "source": [
        "#**PRACTICAL QUESTIONS**"
      ],
      "metadata": {
        "id": "bM57eYzCwGS4"
      }
    },
    {
      "cell_type": "markdown",
      "source": [
        "#1.Create a 3X3 NumPy array with random integers between 1 to 100.Then, interchange its rows and columns."
      ],
      "metadata": {
        "id": "FSnNo-cQwSdz"
      }
    },
    {
      "cell_type": "code",
      "source": [
        "m1=np.random.randint(1,101,(3,3))\n",
        "print(m1)"
      ],
      "metadata": {
        "colab": {
          "base_uri": "https://localhost:8080/"
        },
        "id": "Bd1UxgQHxDp4",
        "outputId": "2cbe4271-36d8-4653-9f07-6a9e3aac12f0"
      },
      "execution_count": 27,
      "outputs": [
        {
          "output_type": "stream",
          "name": "stdout",
          "text": [
            "[[56  9 48]\n",
            " [57 77 51]\n",
            " [74 84 43]]\n"
          ]
        }
      ]
    },
    {
      "cell_type": "code",
      "source": [
        "m2=m1.T\n",
        "print(m2)"
      ],
      "metadata": {
        "colab": {
          "base_uri": "https://localhost:8080/"
        },
        "id": "cakhZI1VxOwM",
        "outputId": "55b67488-0678-4d1b-db67-2d706787b98e"
      },
      "execution_count": 28,
      "outputs": [
        {
          "output_type": "stream",
          "name": "stdout",
          "text": [
            "[[56 57 74]\n",
            " [ 9 77 84]\n",
            " [48 51 43]]\n"
          ]
        }
      ]
    },
    {
      "cell_type": "markdown",
      "source": [
        "#2.Generate a 1D NumPy array with 10 elements.Reshape it into a 2X5 array,then into 5X2 array."
      ],
      "metadata": {
        "id": "lG-_KfN6xxj-"
      }
    },
    {
      "cell_type": "code",
      "source": [
        "n1=np.random.randint(1,15,(1,10))\n",
        "print(n1)"
      ],
      "metadata": {
        "colab": {
          "base_uri": "https://localhost:8080/"
        },
        "id": "N1KRnCcLyMic",
        "outputId": "3b5cb12f-00a8-4877-9a60-d7edd7d2bc22"
      },
      "execution_count": 30,
      "outputs": [
        {
          "output_type": "stream",
          "name": "stdout",
          "text": [
            "[[ 3 10  9  6  8  6 12  5  7  1]]\n"
          ]
        }
      ]
    },
    {
      "cell_type": "code",
      "source": [
        "ns=n1.reshape(2,5)\n",
        "print(ns)"
      ],
      "metadata": {
        "colab": {
          "base_uri": "https://localhost:8080/"
        },
        "id": "QYOTSRsiywtJ",
        "outputId": "79001beb-228c-4647-854e-2fd7d7eae328"
      },
      "execution_count": 31,
      "outputs": [
        {
          "output_type": "stream",
          "name": "stdout",
          "text": [
            "[[ 3 10  9  6  8]\n",
            " [ 6 12  5  7  1]]\n"
          ]
        }
      ]
    },
    {
      "cell_type": "code",
      "source": [
        "nq=n1.reshape(5,2)\n",
        "print(nq)"
      ],
      "metadata": {
        "colab": {
          "base_uri": "https://localhost:8080/"
        },
        "id": "DZiF0wpPzAjq",
        "outputId": "ae5d4f17-4f10-4937-8679-8f8a7ff7493b"
      },
      "execution_count": 32,
      "outputs": [
        {
          "output_type": "stream",
          "name": "stdout",
          "text": [
            "[[ 3 10]\n",
            " [ 9  6]\n",
            " [ 8  6]\n",
            " [12  5]\n",
            " [ 7  1]]\n"
          ]
        }
      ]
    },
    {
      "cell_type": "markdown",
      "source": [
        "#3.Create a 4X4 NumPy array with random float values.Add a border of zeros around it, resulting in a 6X6 array."
      ],
      "metadata": {
        "id": "zY9kW_vuzPmS"
      }
    },
    {
      "cell_type": "code",
      "source": [
        "a1=np.random.rand(4,4)\n",
        "print(a1)"
      ],
      "metadata": {
        "colab": {
          "base_uri": "https://localhost:8080/"
        },
        "id": "D06xk2cYzn2-",
        "outputId": "031b4df4-6c60-4989-face-f19729bf696f"
      },
      "execution_count": 34,
      "outputs": [
        {
          "output_type": "stream",
          "name": "stdout",
          "text": [
            "[[0.23039282 0.09639261 0.08828185 0.33358307]\n",
            " [0.10749899 0.15150769 0.01677849 0.85459977]\n",
            " [0.68248787 0.37275727 0.15161448 0.98012866]\n",
            " [0.01895076 0.45345383 0.62521168 0.02488398]]\n"
          ]
        }
      ]
    },
    {
      "cell_type": "code",
      "source": [
        "bordered_array=np.pad(a1,pad_width=1,mode='constant',constant_values=0)\n",
        "print(bordered_array)"
      ],
      "metadata": {
        "colab": {
          "base_uri": "https://localhost:8080/"
        },
        "id": "SJE3jCDD1T9x",
        "outputId": "b800fbe5-ada3-435b-b0ab-490047f77d08"
      },
      "execution_count": 35,
      "outputs": [
        {
          "output_type": "stream",
          "name": "stdout",
          "text": [
            "[[0.         0.         0.         0.         0.         0.        ]\n",
            " [0.         0.23039282 0.09639261 0.08828185 0.33358307 0.        ]\n",
            " [0.         0.10749899 0.15150769 0.01677849 0.85459977 0.        ]\n",
            " [0.         0.68248787 0.37275727 0.15161448 0.98012866 0.        ]\n",
            " [0.         0.01895076 0.45345383 0.62521168 0.02488398 0.        ]\n",
            " [0.         0.         0.         0.         0.         0.        ]]\n"
          ]
        }
      ]
    },
    {
      "cell_type": "markdown",
      "source": [
        "#4.Using NumPy, create an array of integers from 10 to 60 with a step of 5.\n"
      ],
      "metadata": {
        "id": "PZGXKPA818gc"
      }
    },
    {
      "cell_type": "code",
      "source": [
        "b1=np.arange(10,61,5)\n",
        "print(b1)"
      ],
      "metadata": {
        "colab": {
          "base_uri": "https://localhost:8080/"
        },
        "id": "h6qXo2Y92O_X",
        "outputId": "1a87e0f1-f8b2-4a73-f913-dda8febae3c4"
      },
      "execution_count": 37,
      "outputs": [
        {
          "output_type": "stream",
          "name": "stdout",
          "text": [
            "[10 15 20 25 30 35 40 45 50 55 60]\n"
          ]
        }
      ]
    },
    {
      "cell_type": "markdown",
      "source": [
        "#5.Create a NumPy array of string ['python','numpy','pandas'].Apply different case of transformations (uppercase,lowercase,title case,etc.) to each element."
      ],
      "metadata": {
        "id": "ZM9EQk0i3DlE"
      }
    },
    {
      "cell_type": "code",
      "source": [
        "c1=np.array(['python','numpy','pandas'])\n",
        "c2=np.char.upper(c1) #for uppercase\n",
        "print(c2)"
      ],
      "metadata": {
        "colab": {
          "base_uri": "https://localhost:8080/"
        },
        "id": "MF3l57VO3lwH",
        "outputId": "172b79f5-6ce6-4dc3-cfdf-df45902366d5"
      },
      "execution_count": 39,
      "outputs": [
        {
          "output_type": "stream",
          "name": "stdout",
          "text": [
            "['PYTHON' 'NUMPY' 'PANDAS']\n"
          ]
        }
      ]
    },
    {
      "cell_type": "code",
      "source": [
        "c3=np.char.lower(c1) #for lowercase\n",
        "print(c3)"
      ],
      "metadata": {
        "colab": {
          "base_uri": "https://localhost:8080/"
        },
        "id": "K9i6x3To4Ow8",
        "outputId": "d61a35cd-68c6-4b2b-d50d-ee4951492cda"
      },
      "execution_count": 40,
      "outputs": [
        {
          "output_type": "stream",
          "name": "stdout",
          "text": [
            "['python' 'numpy' 'pandas']\n"
          ]
        }
      ]
    },
    {
      "cell_type": "code",
      "source": [
        "c4=np.char.title(c1) #for titlecase\n",
        "print(c4)"
      ],
      "metadata": {
        "colab": {
          "base_uri": "https://localhost:8080/"
        },
        "id": "kO35Lchz42WN",
        "outputId": "3f542c19-4895-414b-dbf3-7a5a957480b0"
      },
      "execution_count": 41,
      "outputs": [
        {
          "output_type": "stream",
          "name": "stdout",
          "text": [
            "['Python' 'Numpy' 'Pandas']\n"
          ]
        }
      ]
    },
    {
      "cell_type": "markdown",
      "source": [
        "#6.Generate an NumPy array of words .Insert a space between each character of every word in the array."
      ],
      "metadata": {
        "id": "vnIFmIjZ5Gw1"
      }
    },
    {
      "cell_type": "code",
      "source": [
        "words=np.array(['hello','world','numpy','array','space'])\n",
        "spaced_words=np.char.join(\" \",words)\n",
        "print(spaced_words)"
      ],
      "metadata": {
        "colab": {
          "base_uri": "https://localhost:8080/"
        },
        "id": "94YDX0gn5rci",
        "outputId": "a952e6b2-7b21-4cc2-f23b-ac3a1d3d9aab"
      },
      "execution_count": 42,
      "outputs": [
        {
          "output_type": "stream",
          "name": "stdout",
          "text": [
            "['h e l l o' 'w o r l d' 'n u m p y' 'a r r a y' 's p a c e']\n"
          ]
        }
      ]
    },
    {
      "cell_type": "markdown",
      "source": [
        "#7.Create two 2D NumPy arrays and perform element wise addition-wise addition, subtraction, multiplication, and division."
      ],
      "metadata": {
        "id": "NDi0zqXl7Nxc"
      }
    },
    {
      "cell_type": "code",
      "source": [
        "d1=np.array([[1,2,3],[4,5,6]])\n",
        "d2=np.array([[7,8,9],[10,11,12]])\n",
        "print(d1+d2) #element wise addition"
      ],
      "metadata": {
        "colab": {
          "base_uri": "https://localhost:8080/"
        },
        "id": "xUTpJO_W8R4-",
        "outputId": "13522065-99ff-4381-a67a-4f5422c9b906"
      },
      "execution_count": 43,
      "outputs": [
        {
          "output_type": "stream",
          "name": "stdout",
          "text": [
            "[[ 8 10 12]\n",
            " [14 16 18]]\n"
          ]
        }
      ]
    },
    {
      "cell_type": "code",
      "source": [
        "print(d1-d2) #element wise subtraction"
      ],
      "metadata": {
        "colab": {
          "base_uri": "https://localhost:8080/"
        },
        "id": "H2fdR7RQ8pu8",
        "outputId": "85634d01-0e9c-47f6-a239-bde34b6e67bf"
      },
      "execution_count": 44,
      "outputs": [
        {
          "output_type": "stream",
          "name": "stdout",
          "text": [
            "[[-6 -6 -6]\n",
            " [-6 -6 -6]]\n"
          ]
        }
      ]
    },
    {
      "cell_type": "code",
      "source": [
        "print(d1*d2) #element wise multiplication"
      ],
      "metadata": {
        "colab": {
          "base_uri": "https://localhost:8080/"
        },
        "id": "2_T2mTIt8xzH",
        "outputId": "d1bd6432-36b2-4276-f9ac-40a8d5a36e55"
      },
      "execution_count": 45,
      "outputs": [
        {
          "output_type": "stream",
          "name": "stdout",
          "text": [
            "[[ 7 16 27]\n",
            " [40 55 72]]\n"
          ]
        }
      ]
    },
    {
      "cell_type": "code",
      "source": [
        "print(d1/d2) #element wise division"
      ],
      "metadata": {
        "colab": {
          "base_uri": "https://localhost:8080/"
        },
        "id": "xIvsjNRA84Xy",
        "outputId": "ea309716-bff5-47fc-b009-e8cab07bdaba"
      },
      "execution_count": 46,
      "outputs": [
        {
          "output_type": "stream",
          "name": "stdout",
          "text": [
            "[[0.14285714 0.25       0.33333333]\n",
            " [0.4        0.45454545 0.5       ]]\n"
          ]
        }
      ]
    },
    {
      "cell_type": "markdown",
      "source": [
        "#8.Use NumPy to create a 5x5 identity matrix, then extract its diagonal elements."
      ],
      "metadata": {
        "id": "mLX1A0fU9PVh"
      }
    },
    {
      "cell_type": "code",
      "source": [
        "i1=np.eye(5)"
      ],
      "metadata": {
        "id": "b0JtjYxp9l9p"
      },
      "execution_count": 48,
      "outputs": []
    },
    {
      "cell_type": "code",
      "source": [
        "print(i1)"
      ],
      "metadata": {
        "colab": {
          "base_uri": "https://localhost:8080/"
        },
        "id": "gqytM7Yg95X1",
        "outputId": "8aec01bd-ea78-4602-e392-11e432683ecb"
      },
      "execution_count": 49,
      "outputs": [
        {
          "output_type": "stream",
          "name": "stdout",
          "text": [
            "[[1. 0. 0. 0. 0.]\n",
            " [0. 1. 0. 0. 0.]\n",
            " [0. 0. 1. 0. 0.]\n",
            " [0. 0. 0. 1. 0.]\n",
            " [0. 0. 0. 0. 1.]]\n"
          ]
        }
      ]
    },
    {
      "cell_type": "code",
      "source": [
        "diagonal_elements=np.diag(i1)\n",
        "print(diagonal_elements)"
      ],
      "metadata": {
        "colab": {
          "base_uri": "https://localhost:8080/"
        },
        "id": "xwzutBZH-UGs",
        "outputId": "a648a1a1-a04d-4716-cbb2-ca377b0c97df"
      },
      "execution_count": 50,
      "outputs": [
        {
          "output_type": "stream",
          "name": "stdout",
          "text": [
            "[1. 1. 1. 1. 1.]\n"
          ]
        }
      ]
    },
    {
      "cell_type": "markdown",
      "source": [
        "#9.Generate a NumPy array of 100 random integers between 0 and 1000.Find and display all prime numbers in this array."
      ],
      "metadata": {
        "id": "arwGLC8r-mcS"
      }
    },
    {
      "cell_type": "code",
      "source": [
        "e1=np.random.randint(0,1001,100)\n",
        "\n",
        "#create a function to check number is prime of not\n",
        "def is_prime(n):\n",
        "  if n<=1:\n",
        "    return False\n",
        "  for i in range(2,int(n**0.5)+1):\n",
        "     if n % i == 0:\n",
        "        return False\n",
        "  return True\n",
        "\n",
        "prime_numbers= [num for num in e1 if is_prime(num)]\n",
        "print(\"random numpy array:\",e1)\n",
        "print(\"extract prime number numpy array:\",prime_numbers)"
      ],
      "metadata": {
        "colab": {
          "base_uri": "https://localhost:8080/"
        },
        "id": "Wi6t3KlR-__V",
        "outputId": "840c6ed9-2bdc-4ab3-e303-c4e5724aad57"
      },
      "execution_count": 57,
      "outputs": [
        {
          "output_type": "stream",
          "name": "stdout",
          "text": [
            "random numpy array: [163 599 531 380 133 796 262 933  91 858 990 123  18 895 900 445 835 492\n",
            " 303  53 714 438 160 308 550 745 347 819  26 759 189 906 176 983 442 473\n",
            " 395  83 755 610 646  66 421 456 265 452 516 718 227 740 490 709  60 498\n",
            " 706 603 227  47 493 690 458 230 183 378 442 390 565 968 168 689 271 859\n",
            " 693 505 497 187 114 886 852 623 101 615 260  49 792 580 292 468 537 585\n",
            "  80 697 659 724 977 769 884 707 706 995]\n",
            "extract prime number numpy array: [163, 599, 53, 347, 983, 83, 421, 227, 709, 227, 47, 271, 859, 101, 659, 977, 769]\n"
          ]
        }
      ]
    },
    {
      "cell_type": "markdown",
      "source": [
        "#10.Create an NumPy array representing daily temperature for a month. Calculate and display the weekly averages."
      ],
      "metadata": {
        "id": "PKt-iYxGC3op"
      }
    },
    {
      "cell_type": "code",
      "source": [
        "temp=np.array([30,34,35,34,29,28,30,36,27,28,29,31,33,32,34,34,35,30,31,28,29,34,32,27,34,32,29,32])\n",
        "print(\"List of temperature of each day of month:\",temp)"
      ],
      "metadata": {
        "colab": {
          "base_uri": "https://localhost:8080/"
        },
        "id": "xj8ZOctzDQp_",
        "outputId": "73cf72fb-e395-407d-e92b-f309aa725bf7"
      },
      "execution_count": 65,
      "outputs": [
        {
          "output_type": "stream",
          "name": "stdout",
          "text": [
            "List of temperature of each day of month: [30 34 35 34 29 28 30 36 27 28 29 31 33 32 34 34 35 30 31 28 29 34 32 27\n",
            " 34 32 29 32]\n"
          ]
        }
      ]
    },
    {
      "cell_type": "code",
      "source": [
        "spt=np.split(temp,4)\n",
        "print(\"Average temperature of first week:\",np.mean(spt[0]))\n",
        "print(\"Average temperature of second week:\",np.mean(spt[1]))\n",
        "print(\"Average temperature of third week:\",np.mean(spt[2]))\n",
        "print(\"Average temperature of fourth week:\",np.mean(spt[3]))"
      ],
      "metadata": {
        "colab": {
          "base_uri": "https://localhost:8080/"
        },
        "id": "xQgE_NLHEvlR",
        "outputId": "52b74ca1-5f55-45da-c860-aa6a8acd87e9"
      },
      "execution_count": 63,
      "outputs": [
        {
          "output_type": "stream",
          "name": "stdout",
          "text": [
            "Average temperature of first week: 31.428571428571427\n",
            "Average temperature of second week: 30.857142857142858\n",
            "Average temperature of third week: 31.571428571428573\n",
            "Average temperature of fourth week: 31.428571428571427\n"
          ]
        }
      ]
    },
    {
      "cell_type": "code",
      "source": [],
      "metadata": {
        "id": "xeiVSNLwE7zv"
      },
      "execution_count": null,
      "outputs": []
    }
  ]
}