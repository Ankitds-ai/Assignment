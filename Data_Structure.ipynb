{
  "nbformat": 4,
  "nbformat_minor": 0,
  "metadata": {
    "colab": {
      "provenance": []
    },
    "kernelspec": {
      "name": "python3",
      "display_name": "Python 3"
    },
    "language_info": {
      "name": "python"
    }
  },
  "cells": [
    {
      "cell_type": "markdown",
      "source": [
        "# 1.Discuss string sclicing and provide examples.\n",
        "String slicing is method to obtain sub-string from the given string through slicing from start to end.In which start is inclusive and end is exclusive.Let's understand properly through example below."
      ],
      "metadata": {
        "id": "SXkNgMcORGnb"
      }
    },
    {
      "cell_type": "code",
      "source": [
        "str1 = \"I am a great guy\"\n",
        "str1[0:5] #extract above string from index 0 to 5(5 is excluse)\n",
        "str1[2:10:2] #here extract string from index 2 to 10 but with a step size of 2"
      ],
      "metadata": {
        "id": "BgoNQi-GSYc9"
      },
      "execution_count": null,
      "outputs": []
    },
    {
      "cell_type": "markdown",
      "source": [
        "# 2.Explain the key features of lists in python.\n",
        "Lists are mutable. Items can be added, removed and changed even after the list is defined. list items are ordered collection and it follows zero indexing."
      ],
      "metadata": {
        "id": "FfNmUVc2UYC8"
      }
    },
    {
      "cell_type": "markdown",
      "source": [
        "# 3. Describe how to access, modify  and delete elements in a list with examples.\n"
      ],
      "metadata": {
        "id": "mONjJ2XNV4mJ"
      }
    },
    {
      "cell_type": "code",
      "source": [
        "my_list = [1,\"ankit\",\"student\",4.5,True]\n",
        "#access a element\n",
        "my_list[2]\n",
        "#modify a element\n",
        "my_list[2] = \"nice\"\n",
        "#delete a element\n",
        "my_list.remove(\"ankit\")\n",
        "\n"
      ],
      "metadata": {
        "id": "IeF_DFc8Wa9t"
      },
      "execution_count": null,
      "outputs": []
    },
    {
      "cell_type": "markdown",
      "source": [
        "# 4.Compare and contrast tuples and lists with examples.\n",
        "## Lists                           \n",
        " 1.lists are mutable.                \n",
        " 2.you can modify it even after its\n",
        "   creation.such as insertion          \n",
        "   deletion etc.\n",
        " 3.lists consume more memory.        \n",
        " 4.chances of getting error is high.\n",
        "\n",
        " ## Tuples\n",
        "    1.tuples are immuntable.\n",
        "    2.you can access only due to its properties.\n",
        "    3.tuples consume less memory.\n",
        "    4.chances of getting error is less.\n",
        "\n",
        "\n",
        "\n"
      ],
      "metadata": {
        "id": "LwHTFMB0YFeg"
      }
    },
    {
      "cell_type": "markdown",
      "source": [
        "# 5.Describe the key featues of sets and provide examples of their use.\n",
        "  Sets are immutable , unordered and do not consist duplicate values."
      ],
      "metadata": {
        "id": "nOPxayNxb3_e"
      }
    },
    {
      "cell_type": "code",
      "source": [
        "#To get unique elements.\n",
        "fruits = {\"apple\",\"orange\",\"mango\",\"grapes\",\"apple\",\"mango\"}\n",
        "#let's define two sets.\n",
        "s1 = {1,2,3,4,5,6}\n",
        "s2 = {5,6,7,8,9}\n",
        "#Get a union of these two sets.\n",
        "s1|s2\n",
        "#Get a intersection.\n",
        "s1&s2\n",
        "#Get a difference\n",
        "s1-s2\n",
        "#Get a symmetric difference.\n",
        "s1^s2\n"
      ],
      "metadata": {
        "id": "81_Bsxkocp_5"
      },
      "execution_count": null,
      "outputs": []
    },
    {
      "cell_type": "markdown",
      "source": [
        "# 6.Discuss the use cases of sets and tuples in python programming.\n",
        "  Sets are mutable and tuples are immutable.sets are unordered whereas tuples are ordered.sets can be modifies even after its creation whereas tuple didn't allow."
      ],
      "metadata": {
        "id": "J1VJDFb8fLH5"
      }
    },
    {
      "cell_type": "markdown",
      "source": [
        "# 7.Describe how to add, modify and delete items in a dictionary with examples.\n",
        "  "
      ],
      "metadata": {
        "id": "Rs5-ytCXgV2Z"
      }
    },
    {
      "cell_type": "code",
      "source": [
        "d = {\"name\":\"ankit\",\"email\":\"ankitkumar14singh\",\"contact\":\"7302223664\"}\n",
        "#add a pair\n",
        "d[\"favorite friut\"] = \"mango\"\n",
        "#modify a pair\n",
        "d[\"name\"] = \"aryan\"\n",
        "#delete a pair\n",
        "del d[\"contact\"]"
      ],
      "metadata": {
        "id": "5WJVvhTTg8x4"
      },
      "execution_count": null,
      "outputs": []
    },
    {
      "cell_type": "markdown",
      "source": [
        "# 8.Discuss the importance of dictionary keys being immutable and provide examples.\n",
        "If the keys were mutable it's value could change.it creates lots of confusion in program and eventually leads to error or unsatisfying output. Every key has its hash value but make sure key datatype should be immutable.  "
      ],
      "metadata": {
        "id": "3PkJuBs2jJfv"
      }
    },
    {
      "cell_type": "code",
      "source": [
        "d = {{1,2}:\"nice\"}\n",
        "d #it gives error bcoz list datatype does not generate its hash value"
      ],
      "metadata": {
        "colab": {
          "base_uri": "https://localhost:8080/",
          "height": 158
        },
        "id": "sNHYwMgEkcwu",
        "outputId": "39629165-f590-4bae-b318-7009d56f1032"
      },
      "execution_count": 16,
      "outputs": [
        {
          "output_type": "error",
          "ename": "TypeError",
          "evalue": "unhashable type: 'set'",
          "traceback": [
            "\u001b[0;31m---------------------------------------------------------------------------\u001b[0m",
            "\u001b[0;31mTypeError\u001b[0m                                 Traceback (most recent call last)",
            "\u001b[0;32m<ipython-input-16-07d836bae129>\u001b[0m in \u001b[0;36m<cell line: 1>\u001b[0;34m()\u001b[0m\n\u001b[0;32m----> 1\u001b[0;31m \u001b[0md\u001b[0m \u001b[0;34m=\u001b[0m \u001b[0;34m{\u001b[0m\u001b[0;34m{\u001b[0m\u001b[0;36m1\u001b[0m\u001b[0;34m,\u001b[0m\u001b[0;36m2\u001b[0m\u001b[0;34m}\u001b[0m\u001b[0;34m:\u001b[0m\u001b[0;34m\"nice\"\u001b[0m\u001b[0;34m}\u001b[0m\u001b[0;34m\u001b[0m\u001b[0;34m\u001b[0m\u001b[0m\n\u001b[0m\u001b[1;32m      2\u001b[0m \u001b[0md\u001b[0m\u001b[0;34m\u001b[0m\u001b[0;34m\u001b[0m\u001b[0m\n",
            "\u001b[0;31mTypeError\u001b[0m: unhashable type: 'set'"
          ]
        }
      ]
    },
    {
      "cell_type": "code",
      "source": [],
      "metadata": {
        "id": "9YACecO3TAAH"
      },
      "execution_count": null,
      "outputs": []
    }
  ]
}