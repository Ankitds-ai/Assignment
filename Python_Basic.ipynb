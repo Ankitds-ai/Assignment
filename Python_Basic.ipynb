{
  "nbformat": 4,
  "nbformat_minor": 0,
  "metadata": {
    "colab": {
      "provenance": []
    },
    "kernelspec": {
      "name": "python3",
      "display_name": "Python 3"
    },
    "language_info": {
      "name": "python"
    }
  },
  "cells": [
    {
      "cell_type": "code",
      "execution_count": null,
      "metadata": {
        "id": "9y_nqfOHew6e"
      },
      "outputs": [],
      "source": []
    },
    {
      "cell_type": "markdown",
      "source": [],
      "metadata": {
        "id": "gKDr12l5l_D4"
      }
    },
    {
      "cell_type": "markdown",
      "source": [
        "# 1.Explain the key features of python that make it a popular choice of programming\n",
        "Python is popular because it is open-source coding language as it has simple syntax to code.Because of its simplicity of learning and utilization, python also have a vst libraries suitable for data science ,machine learning and artificial intelligence.\n",
        "\n",
        "#2.Describe the role of predefined keywords in Python and provide examples of how they are used in a program.\n",
        "Python Keywords also known as reserved words are assigned to do particular task and we can't use them to naming a variable or function.\n"
      ],
      "metadata": {
        "id": "HFcY7XBkmDjS"
      }
    },
    {
      "cell_type": "markdown",
      "source": [],
      "metadata": {
        "id": "APkHIs-lq7PN"
      }
    },
    {
      "cell_type": "code",
      "source": [
        "# Example if for and in are keywords\n",
        "for num in range(1,5):\n",
        "  print(num)"
      ],
      "metadata": {
        "colab": {
          "base_uri": "https://localhost:8080/"
        },
        "id": "XDMI0Im2qW9o",
        "outputId": "56781d02-dce0-4f3d-d0ba-bdafe8a307d7"
      },
      "execution_count": 1,
      "outputs": [
        {
          "output_type": "stream",
          "name": "stdout",
          "text": [
            "1\n",
            "2\n",
            "3\n",
            "4\n"
          ]
        }
      ]
    },
    {
      "cell_type": "code",
      "source": [],
      "metadata": {
        "id": "BIJYXrBqq2nL"
      },
      "execution_count": null,
      "outputs": []
    },
    {
      "cell_type": "markdown",
      "source": [
        "# 3.Compare and contrast mutable and immutable objects in Python with examples.\n",
        "In python the main difference between mutable and immutable objects is that mutable objects can be changed after they created, while immutable objects cannot.\n",
        "\n"
      ],
      "metadata": {
        "id": "KQQbC6nprBG8"
      }
    },
    {
      "cell_type": "code",
      "source": [
        "#take a examnple of list and tuple\n",
        "list=[1,2.2,\"ankit\",True]\n",
        "list.append(2) #as you can see we add element in the list\n",
        "#let's talk about tuple\n",
        "tup=(\"ankit\",\"pwskills\",1) #but here we can't do same because of its immutability property\n",
        "\n"
      ],
      "metadata": {
        "colab": {
          "base_uri": "https://localhost:8080/"
        },
        "id": "HroXOw-MsHOn",
        "outputId": "17f36aab-dbd6-42b0-8c3a-f34326f68222"
      },
      "execution_count": 7,
      "outputs": [
        {
          "output_type": "execute_result",
          "data": {
            "text/plain": [
              "('ankit', 'pwskills', 1)"
            ]
          },
          "metadata": {},
          "execution_count": 7
        }
      ]
    },
    {
      "cell_type": "code",
      "source": [],
      "metadata": {
        "id": "MSmr3TBNswgr"
      },
      "execution_count": null,
      "outputs": []
    },
    {
      "cell_type": "markdown",
      "source": [
        "#4.Discuss the diffrent types of operators in Python and provide examples of how they are used.\n",
        "To perform various operation we need operators in Python such as arithmetic opearion to do addition,subtraction,multiplication.division etc comparison operation to compare two values and return a boolean value and logical operator include TRUE / FALSE and assignment opeation used to assign a value and bitwise operator is used to perforn operation like and or xor.\n"
      ],
      "metadata": {
        "id": "ZyIL9ZbOt_Gb"
      }
    },
    {
      "cell_type": "code",
      "source": [
        "#Assignment operator\n",
        "i=3\n",
        "j=4\n",
        "#arithmetical operation\n",
        "i+j\n",
        "i*j\n",
        "#comparison operation\n",
        "i<=j\n",
        "i==j\n",
        "#bitwise operation\n",
        "80 & 90\n",
        "80 | 90\n",
        "5^3\n",
        "#Logical operation\n",
        "a=5\n",
        "b=6\n",
        "if (a<=b) and (b>=6):\n",
        "  print(\"welcome\")\n"
      ],
      "metadata": {
        "id": "bXJKNeNhxDBY"
      },
      "execution_count": 23,
      "outputs": []
    },
    {
      "cell_type": "markdown",
      "source": [
        "#5.Explain the concept of type casting in Python with examples.\n",
        "Type casting is a method to convert to one datatype into another in order to perforn required operation. There are two types of type casting one is implicit and other is explicit. In impicit python automatically convert into another datatype whereas in explicit user need to involve to convert variable datatype into required datatype."
      ],
      "metadata": {
        "id": "GshZw1_m0595"
      }
    },
    {
      "cell_type": "code",
      "source": [
        "#implicit type casting\n",
        "p=2\n",
        "q=3.2\n",
        "p+q\n",
        "#explicit type casting\n",
        "a=input(\"Enter a number\")\n",
        "b=int(a)"
      ],
      "metadata": {
        "colab": {
          "base_uri": "https://localhost:8080/",
          "height": 339
        },
        "id": "PlCa01p72k3q",
        "outputId": "02241028-cbbb-45cd-e0c6-3f7bbba3dd64"
      },
      "execution_count": 31,
      "outputs": [
        {
          "output_type": "error",
          "ename": "KeyboardInterrupt",
          "evalue": "Interrupted by user",
          "traceback": [
            "\u001b[0;31m---------------------------------------------------------------------------\u001b[0m",
            "\u001b[0;31mKeyboardInterrupt\u001b[0m                         Traceback (most recent call last)",
            "\u001b[0;32m<ipython-input-31-c7623b46c8d8>\u001b[0m in \u001b[0;36m<cell line: 6>\u001b[0;34m()\u001b[0m\n\u001b[1;32m      4\u001b[0m \u001b[0mp\u001b[0m\u001b[0;34m+\u001b[0m\u001b[0mq\u001b[0m\u001b[0;34m\u001b[0m\u001b[0;34m\u001b[0m\u001b[0m\n\u001b[1;32m      5\u001b[0m \u001b[0;31m#explicit type casting\u001b[0m\u001b[0;34m\u001b[0m\u001b[0;34m\u001b[0m\u001b[0m\n\u001b[0;32m----> 6\u001b[0;31m \u001b[0ma\u001b[0m\u001b[0;34m=\u001b[0m\u001b[0minput\u001b[0m\u001b[0;34m(\u001b[0m\u001b[0;34m\"Enter a number\"\u001b[0m\u001b[0;34m)\u001b[0m\u001b[0;34m\u001b[0m\u001b[0;34m\u001b[0m\u001b[0m\n\u001b[0m\u001b[1;32m      7\u001b[0m \u001b[0mb\u001b[0m\u001b[0;34m=\u001b[0m\u001b[0mint\u001b[0m\u001b[0;34m(\u001b[0m\u001b[0ma\u001b[0m\u001b[0;34m)\u001b[0m\u001b[0;34m\u001b[0m\u001b[0;34m\u001b[0m\u001b[0m\n",
            "\u001b[0;32m/usr/local/lib/python3.10/dist-packages/ipykernel/kernelbase.py\u001b[0m in \u001b[0;36mraw_input\u001b[0;34m(self, prompt)\u001b[0m\n\u001b[1;32m    849\u001b[0m                 \u001b[0;34m\"raw_input was called, but this frontend does not support input requests.\"\u001b[0m\u001b[0;34m\u001b[0m\u001b[0;34m\u001b[0m\u001b[0m\n\u001b[1;32m    850\u001b[0m             )\n\u001b[0;32m--> 851\u001b[0;31m         return self._input_request(str(prompt),\n\u001b[0m\u001b[1;32m    852\u001b[0m             \u001b[0mself\u001b[0m\u001b[0;34m.\u001b[0m\u001b[0m_parent_ident\u001b[0m\u001b[0;34m,\u001b[0m\u001b[0;34m\u001b[0m\u001b[0;34m\u001b[0m\u001b[0m\n\u001b[1;32m    853\u001b[0m             \u001b[0mself\u001b[0m\u001b[0;34m.\u001b[0m\u001b[0m_parent_header\u001b[0m\u001b[0;34m,\u001b[0m\u001b[0;34m\u001b[0m\u001b[0;34m\u001b[0m\u001b[0m\n",
            "\u001b[0;32m/usr/local/lib/python3.10/dist-packages/ipykernel/kernelbase.py\u001b[0m in \u001b[0;36m_input_request\u001b[0;34m(self, prompt, ident, parent, password)\u001b[0m\n\u001b[1;32m    893\u001b[0m             \u001b[0;32mexcept\u001b[0m \u001b[0mKeyboardInterrupt\u001b[0m\u001b[0;34m:\u001b[0m\u001b[0;34m\u001b[0m\u001b[0;34m\u001b[0m\u001b[0m\n\u001b[1;32m    894\u001b[0m                 \u001b[0;31m# re-raise KeyboardInterrupt, to truncate traceback\u001b[0m\u001b[0;34m\u001b[0m\u001b[0;34m\u001b[0m\u001b[0m\n\u001b[0;32m--> 895\u001b[0;31m                 \u001b[0;32mraise\u001b[0m \u001b[0mKeyboardInterrupt\u001b[0m\u001b[0;34m(\u001b[0m\u001b[0;34m\"Interrupted by user\"\u001b[0m\u001b[0;34m)\u001b[0m \u001b[0;32mfrom\u001b[0m \u001b[0;32mNone\u001b[0m\u001b[0;34m\u001b[0m\u001b[0;34m\u001b[0m\u001b[0m\n\u001b[0m\u001b[1;32m    896\u001b[0m             \u001b[0;32mexcept\u001b[0m \u001b[0mException\u001b[0m \u001b[0;32mas\u001b[0m \u001b[0me\u001b[0m\u001b[0;34m:\u001b[0m\u001b[0;34m\u001b[0m\u001b[0;34m\u001b[0m\u001b[0m\n\u001b[1;32m    897\u001b[0m                 \u001b[0mself\u001b[0m\u001b[0;34m.\u001b[0m\u001b[0mlog\u001b[0m\u001b[0;34m.\u001b[0m\u001b[0mwarning\u001b[0m\u001b[0;34m(\u001b[0m\u001b[0;34m\"Invalid Message:\"\u001b[0m\u001b[0;34m,\u001b[0m \u001b[0mexc_info\u001b[0m\u001b[0;34m=\u001b[0m\u001b[0;32mTrue\u001b[0m\u001b[0;34m)\u001b[0m\u001b[0;34m\u001b[0m\u001b[0;34m\u001b[0m\u001b[0m\n",
            "\u001b[0;31mKeyboardInterrupt\u001b[0m: Interrupted by user"
          ]
        }
      ]
    },
    {
      "cell_type": "markdown",
      "source": [],
      "metadata": {
        "id": "Kh3MlmAs00rd"
      }
    },
    {
      "cell_type": "markdown",
      "source": [
        "# 6. How do conditional statements work in Python? Illustrate with examples.\n",
        "Conditional statements in python provide the choice of control flow of program according to a condition."
      ],
      "metadata": {
        "id": "O_PuFUU146d_"
      }
    },
    {
      "cell_type": "code",
      "source": [
        "a=2\n",
        "b=3\n",
        "if a<=b:\n",
        "  print(\"nice\")\n",
        "else:\n",
        "  print(\"not nice\")"
      ],
      "metadata": {
        "colab": {
          "base_uri": "https://localhost:8080/"
        },
        "id": "vXJNUjCa5-rE",
        "outputId": "51d09836-fee8-4069-fa44-6b3127efaf22"
      },
      "execution_count": 32,
      "outputs": [
        {
          "output_type": "stream",
          "name": "stdout",
          "text": [
            "nice\n"
          ]
        }
      ]
    },
    {
      "cell_type": "code",
      "source": [
        "|"
      ],
      "metadata": {
        "id": "YWUBQbwBxeWs"
      },
      "execution_count": null,
      "outputs": []
    },
    {
      "cell_type": "markdown",
      "source": [
        "# 7.Describe the different types of loops in Python and their use cases with examples.\n",
        "First let's talk about for loop it is used to iterate the sequence till the given and while loop iterates till the condition of the loop satisfies."
      ],
      "metadata": {
        "id": "7G8Fcv9Z66nw"
      }
    },
    {
      "cell_type": "code",
      "source": [
        "#For loop\n",
        "for i in range(1,9):\n",
        "  print(i)\n",
        "#While loop\n",
        "i=1\n",
        "while (i<=9):\n",
        "  print(i)\n",
        "  i=i+1"
      ],
      "metadata": {
        "colab": {
          "base_uri": "https://localhost:8080/"
        },
        "id": "UEfyY-tX8GYo",
        "outputId": "b5f0a977-08cf-4675-ad11-2fa929859397"
      },
      "execution_count": 34,
      "outputs": [
        {
          "output_type": "stream",
          "name": "stdout",
          "text": [
            "1\n",
            "2\n",
            "3\n",
            "4\n",
            "5\n",
            "6\n",
            "7\n",
            "8\n",
            "1\n",
            "2\n",
            "3\n",
            "4\n",
            "5\n",
            "6\n",
            "7\n",
            "8\n",
            "9\n"
          ]
        }
      ]
    },
    {
      "cell_type": "code",
      "source": [],
      "metadata": {
        "id": "3N9nkK_s8So4"
      },
      "execution_count": null,
      "outputs": []
    }
  ]
}